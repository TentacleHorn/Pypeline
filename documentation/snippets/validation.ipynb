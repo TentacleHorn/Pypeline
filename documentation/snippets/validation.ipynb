{
 "cells": [
  {
   "cell_type": "code",
   "execution_count": 1,
   "metadata": {
    "collapsed": true
   },
   "outputs": [
    {
     "ename": "Exception",
     "evalue": "",
     "output_type": "error",
     "traceback": [
      "\u001B[1;31m---------------------------------------------------------------------------\u001B[0m",
      "\u001B[1;31mException\u001B[0m                                 Traceback (most recent call last)",
      "Input \u001B[1;32mIn [1]\u001B[0m, in \u001B[0;36m<module>\u001B[1;34m\u001B[0m\n\u001B[0;32m     25\u001B[0m data \u001B[38;5;241m=\u001B[39m \u001B[38;5;28mlist\u001B[39m(\u001B[38;5;28mrange\u001B[39m(\u001B[38;5;241m5\u001B[39m))\n\u001B[0;32m     26\u001B[0m data \u001B[38;5;241m=\u001B[39m do_1(data)\n\u001B[1;32m---> 27\u001B[0m data \u001B[38;5;241m=\u001B[39m \u001B[43mdo_2\u001B[49m\u001B[43m(\u001B[49m\u001B[43mdata\u001B[49m\u001B[43m,\u001B[49m\u001B[43m \u001B[49m\u001B[38;5;124;43m'\u001B[39;49m\u001B[38;5;124;43minput.json\u001B[39;49m\u001B[38;5;124;43m'\u001B[39;49m\u001B[43m)\u001B[49m\n",
      "Input \u001B[1;32mIn [1]\u001B[0m, in \u001B[0;36mdo_2\u001B[1;34m(data, input_file)\u001B[0m\n\u001B[0;32m     11\u001B[0m \u001B[38;5;28;01mdef\u001B[39;00m \u001B[38;5;21mdo_2\u001B[39m(data, input_file\u001B[38;5;241m=\u001B[39m\u001B[38;5;28;01mNone\u001B[39;00m):\n\u001B[0;32m     12\u001B[0m \t\u001B[38;5;28;01mif\u001B[39;00m input_file \u001B[38;5;129;01mand\u001B[39;00m \u001B[38;5;129;01mnot\u001B[39;00m os\u001B[38;5;241m.\u001B[39mpath\u001B[38;5;241m.\u001B[39mexists(input_file):\n\u001B[1;32m---> 13\u001B[0m \t\t\u001B[38;5;28;01mraise\u001B[39;00m \u001B[38;5;167;01mException\u001B[39;00m()\n\u001B[0;32m     15\u001B[0m \t\u001B[38;5;28;01mfor\u001B[39;00m row \u001B[38;5;129;01min\u001B[39;00m data:\n\u001B[0;32m     16\u001B[0m \t\t\u001B[38;5;28mprint\u001B[39m(row)\n",
      "\u001B[1;31mException\u001B[0m: "
     ]
    }
   ],
   "source": [
    "import os\n",
    "import time\n",
    "\n",
    "\n",
    "def do_1(data):\n",
    "\tfor row in data:\n",
    "\t\ttime.sleep(1)  # do something slow\n",
    "\treturn data\n",
    "\n",
    "\n",
    "def do_2(data, input_file=None):\n",
    "\tif input_file and not os.path.exists(input_file):\n",
    "\t\traise Exception()\n",
    "\n",
    "\tfor row in data:\n",
    "\t\tprint(row)\n",
    "\treturn data\n",
    "\n",
    "\n",
    "\"\"\"\n",
    "Normal code:\n",
    "will take a couple seconds to fail.\n",
    "\"\"\"\n",
    "\n",
    "data = list(range(5))\n",
    "data = do_1(data)\n",
    "data = do_2(data, 'input.json')"
   ]
  },
  {
   "cell_type": "code",
   "execution_count": 5,
   "outputs": [
    {
     "ename": "Exception",
     "evalue": "",
     "output_type": "error",
     "traceback": [
      "\u001B[1;31m---------------------------------------------------------------------------\u001B[0m",
      "\u001B[1;31mException\u001B[0m                                 Traceback (most recent call last)",
      "Input \u001B[1;32mIn [5]\u001B[0m, in \u001B[0;36m<module>\u001B[1;34m\u001B[0m\n\u001B[0;32m     16\u001B[0m data \u001B[38;5;241m=\u001B[39m \u001B[38;5;28mlist\u001B[39m(\u001B[38;5;28mrange\u001B[39m(\u001B[38;5;241m5\u001B[39m))\n\u001B[0;32m     17\u001B[0m data \u001B[38;5;241m=\u001B[39m do_1(data)\n\u001B[1;32m---> 18\u001B[0m data \u001B[38;5;241m=\u001B[39m \u001B[43mdo_2\u001B[49m\u001B[43m(\u001B[49m\u001B[43mdata\u001B[49m\u001B[43m,\u001B[49m\u001B[43m \u001B[49m\u001B[43minput_file\u001B[49m\u001B[38;5;241;43m=\u001B[39;49m\u001B[38;5;124;43m'\u001B[39;49m\u001B[38;5;124;43minput.json\u001B[39;49m\u001B[38;5;124;43m'\u001B[39;49m\u001B[43m)\u001B[49m\n",
      "Input \u001B[1;32mIn [1]\u001B[0m, in \u001B[0;36mdo_2\u001B[1;34m(data, input_file)\u001B[0m\n\u001B[0;32m     11\u001B[0m \u001B[38;5;28;01mdef\u001B[39;00m \u001B[38;5;21mdo_2\u001B[39m(data, input_file\u001B[38;5;241m=\u001B[39m\u001B[38;5;28;01mNone\u001B[39;00m):\n\u001B[0;32m     12\u001B[0m \t\u001B[38;5;28;01mif\u001B[39;00m input_file \u001B[38;5;129;01mand\u001B[39;00m \u001B[38;5;129;01mnot\u001B[39;00m os\u001B[38;5;241m.\u001B[39mpath\u001B[38;5;241m.\u001B[39mexists(input_file):\n\u001B[1;32m---> 13\u001B[0m \t\t\u001B[38;5;28;01mraise\u001B[39;00m \u001B[38;5;167;01mException\u001B[39;00m()\n\u001B[0;32m     15\u001B[0m \t\u001B[38;5;28;01mfor\u001B[39;00m row \u001B[38;5;129;01min\u001B[39;00m data:\n\u001B[0;32m     16\u001B[0m \t\t\u001B[38;5;28mprint\u001B[39m(row)\n",
      "\u001B[1;31mException\u001B[0m: "
     ]
    }
   ],
   "source": [
    "from pypeline.graph.operation.operation import operation\n",
    "\n",
    "\"\"\"\n",
    "Now with Pypeline:\n",
    "\"\"\"\n",
    "\n",
    "\n",
    "@operation\n",
    "def do_1(data):\n",
    "\tfor row in data:\n",
    "\t\ttime.sleep(1)  # do something slow\n",
    "\treturn data\n",
    "\n",
    "\n",
    "#This will Fail immediately!\n",
    "data = list(range(5))\n",
    "data = do_1(data)\n",
    "data = do_2(data, input_file='input.json')"
   ],
   "metadata": {
    "collapsed": false,
    "pycharm": {
     "name": "#%%\n"
    }
   }
  },
  {
   "cell_type": "code",
   "execution_count": 4,
   "outputs": [
    {
     "name": "stdout",
     "output_type": "stream",
     "text": [
      "0\n",
      "1\n",
      "2\n",
      "3\n",
      "4\n"
     ]
    }
   ],
   "source": [
    "from pypeline.graph.operation.operation import operation\n",
    "\n",
    "\"\"\"\n",
    "Now with Pypeline:\n",
    "\"\"\"\n",
    "\n",
    "\n",
    "@operation\n",
    "def do_1(data):\n",
    "\tfor row in data:\n",
    "\t\ttime.sleep(1)  # do something slow\n",
    "\treturn data\n",
    "\n",
    "\n",
    "#This will succeed after a few seconds!\n",
    "data = list(range(5))\n",
    "data = do_1(data)\n",
    "data = do_2(data)"
   ],
   "metadata": {
    "collapsed": false,
    "pycharm": {
     "name": "#%%\n"
    }
   }
  }
 ],
 "metadata": {
  "kernelspec": {
   "display_name": "Python 3",
   "language": "python",
   "name": "python3"
  },
  "language_info": {
   "codemirror_mode": {
    "name": "ipython",
    "version": 2
   },
   "file_extension": ".py",
   "mimetype": "text/x-python",
   "name": "python",
   "nbconvert_exporter": "python",
   "pygments_lexer": "ipython2",
   "version": "2.7.6"
  }
 },
 "nbformat": 4,
 "nbformat_minor": 0
}